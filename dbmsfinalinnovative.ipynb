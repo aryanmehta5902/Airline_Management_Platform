{
 "cells": [
  {
   "cell_type": "code",
   "execution_count": 2,
   "id": "852bd0d1",
   "metadata": {},
   "outputs": [],
   "source": [
    "import ibm_db\n",
    "import ibm_db_sa\n",
    "import sqlalchemy"
   ]
  },
  {
   "cell_type": "code",
   "execution_count": 3,
   "id": "0a1803c1",
   "metadata": {},
   "outputs": [],
   "source": [
    "%load_ext sql"
   ]
  },
  {
   "cell_type": "code",
   "execution_count": 4,
   "id": "5756c609",
   "metadata": {},
   "outputs": [],
   "source": [
    "%sql ibm_db_sa://ybx80860:kM41zZkDkaI7mnI5@824dfd4d-99de-440d-9991-629c01b3832d.bs2io90l08kqb1od8lcg.databases.appdomain.cloud:30119/bludb;security=SSL;"
   ]
  },
  {
   "cell_type": "code",
   "execution_count": 9,
   "id": "98fb9af2",
   "metadata": {},
   "outputs": [
    {
     "name": "stdout",
     "output_type": "stream",
     "text": [
      " * ibm_db_sa://ybx80860:***@824dfd4d-99de-440d-9991-629c01b3832d.bs2io90l08kqb1od8lcg.databases.appdomain.cloud:30119/bludb;security=SSL;\n",
      "Done.\n",
      " * ibm_db_sa://ybx80860:***@824dfd4d-99de-440d-9991-629c01b3832d.bs2io90l08kqb1od8lcg.databases.appdomain.cloud:30119/bludb;security=SSL;\n",
      "Done.\n",
      " * ibm_db_sa://ybx80860:***@824dfd4d-99de-440d-9991-629c01b3832d.bs2io90l08kqb1od8lcg.databases.appdomain.cloud:30119/bludb;security=SSL;\n",
      "Done.\n",
      " * ibm_db_sa://ybx80860:***@824dfd4d-99de-440d-9991-629c01b3832d.bs2io90l08kqb1od8lcg.databases.appdomain.cloud:30119/bludb;security=SSL;\n",
      "Done.\n",
      " * ibm_db_sa://ybx80860:***@824dfd4d-99de-440d-9991-629c01b3832d.bs2io90l08kqb1od8lcg.databases.appdomain.cloud:30119/bludb;security=SSL;\n",
      "1 rows affected.\n",
      " * ibm_db_sa://ybx80860:***@824dfd4d-99de-440d-9991-629c01b3832d.bs2io90l08kqb1od8lcg.databases.appdomain.cloud:30119/bludb;security=SSL;\n",
      "1 rows affected.\n",
      " * ibm_db_sa://ybx80860:***@824dfd4d-99de-440d-9991-629c01b3832d.bs2io90l08kqb1od8lcg.databases.appdomain.cloud:30119/bludb;security=SSL;\n",
      "Done.\n"
     ]
    }
   ],
   "source": [
    "from tkinter import *\n",
    "from PIL import Image, ImageTk\n",
    "from tkinter import messagebox\n",
    "\n",
    "root=Tk()\n",
    "\n",
    "\n",
    "    \n",
    "    \n",
    "flig=Frame(root,width=800,height=800)\n",
    "searchframe=Frame(root,width=800,height=800)\n",
    "\n",
    "def booknow():\n",
    "    uid1=str(uid.get())\n",
    "    fn=str(fnn.get())\n",
    "    ln=str(lnn.get())\n",
    "    age1=int(agen.get())\n",
    "    gender1=str(gendern.get())\n",
    "    f=str(fid.get())\n",
    "    from1=str(ffrom.get())\n",
    "    to1=str(tto.get())\n",
    "    \n",
    "    a='+----------+\\n| nooftick |\\n+----------+\\n|    0     |\\n+----------+'\n",
    "    b=%sql select nooftick from flight1 where flightid=:f;\n",
    "    b=str(b)\n",
    "    if(a!=b):\n",
    "            %sql update flight1 set nooftick=nooftick-1 where flightid=:f;\n",
    "            %sql INSERT INTO searchbook2 (userid,fname,lname,age,gender,ffrom,fto,flightid) values (:uid1,:fn,:ln,:age1,:gender1,:from1,:to1,:f);\n",
    "            messagebox.showinfo(\"showinfo\", \"Ticket booked!\")\n",
    "    else:\n",
    "        messagebox.showinfo(\"showinfo\", \"Ticket Not booked!\")\n",
    "    \n",
    "    gomain1()\n",
    "    \n",
    "def search():\n",
    "    bookticket.grid_forget()\n",
    "    from1=str(ffrom.get())\n",
    "    to1=str(tto.get())\n",
    "    \n",
    "    \n",
    "    y=%sql select * from flight1 where ffrom=:from1 and fto=:to1 and nooftick>0;\n",
    "    z=%sql select * from flight1 where ffrom=:to1 and nooftick>0;\n",
    "    y=str(y)\n",
    "    z=str(z)\n",
    "    l1=Label(searchframe,text=y)\n",
    "    l1.grid(row=5,column=15,pady=5,padx=10)\n",
    "    ll=Label(searchframe,text=z)\n",
    "    ll.grid(row=6,column=15,pady=5,padx=10)\n",
    "    l2=Label(searchframe,text=\"ENTER THE FLIGHT ID OF THE FLIGHT YOU WANT TO BOOK\")\n",
    "    l2.grid(row=10,column=15,pady=5,padx=10)\n",
    "    l3=Entry(searchframe,textvariable=fid)\n",
    "    l3.grid(row=15,column=15,pady=5,padx=10)\n",
    "    b5=Button(searchframe,text=\"BOOK THIS TICKET!\",font=\"comicsansms 9\",command=booknow)\n",
    "    b5.grid(row=20,column=15,pady=15)\n",
    "    goback1=Button(searchframe,text=\"GO TO MAIN PAGE!\",font=\"comicsansms 9\",command=gomain1)\n",
    "    goback1.grid(row=25,column=15,pady=15)\n",
    "    \n",
    "    searchframe.grid()\n",
    "    \n",
    "    \n",
    "    \n",
    "    \n",
    "    \n",
    "userframe=Frame(root,width=800,height=800)\n",
    "\n",
    "\n",
    "#[6:20 pm, 01/04/2022] Aryan Mehta: %sql INSERT INTO searchbook1 (userid,fname,lname,age,gender,ffrom,fto) values (:uid1,:fn,:ln,:age1,:gender1,:from1,:to1);\n",
    "#[6:27 pm, 01/04/2022] Aryan Mehta: %sql select * from flights1 where ffrom=:from1 and fto=:to1;\\\n",
    "\n",
    "def clearmain1():\n",
    "    mainpage.grid_forget()\n",
    "    bookbutton = Button(bookticket, text=\"SEARCH FLIGHTS!\", padx=10, pady=10,command=search)\n",
    "    bookbutton.grid(row=25, column=3)\n",
    "    goback1=Button(bookticket,text=\"GO TO MAIN PAGE!\",font=\"comicsansms 9\",command=gomain1)\n",
    "    goback1.grid(row=26,column=3,pady=15)\n",
    "    bookticket.grid()\n",
    "\n",
    "def clearmain2():\n",
    "    mainpage.grid_forget()\n",
    "    y= %sql select flightid,airline,ffrom,fto,fdate,ftime,nooftick from flight1 where nooftick>0;\n",
    "    y=str(y)\n",
    "    l1=Label(flig,text=y)\n",
    "    l1.grid(row=5,column=15,pady=5,padx=10)\n",
    "    goback1=Button(flig,text=\"GO TO MAIN PAGE!\",font=\"comicsansms 9\",command=gomain1)\n",
    "    goback1.grid(row=30,column=15,pady=15)\n",
    "    flig.grid()\n",
    "    \n",
    "    \n",
    "u1=StringVar()\n",
    "pilotsee=StringVar()\n",
    "planesee=StringVar()\n",
    "    \n",
    "def seeuser():\n",
    "    u=str(u1.get())\n",
    "    y=%sql select * from searchbook2 where userid=:u;\n",
    "    y=str(y)\n",
    "    lb=Label(userframe,text=y)\n",
    "    lb.grid(row=15,column=2)\n",
    "    goback1=Button(userframe,text=\"GO TO MAIN PAGE!\",font=\"comicsansms 9\",command=gomain1)\n",
    "    goback1.grid(row=20,column=2,pady=15)\n",
    "    \n",
    "    \n",
    "l6=Entry(userframe,textvariable=u1)\n",
    "l7=Label(userframe,text=\"ENTER USER ID:\")\n",
    "l7.grid(row=11,column=2,pady=5,padx=10)\n",
    "l6.grid(row=11,column=3,pady=5,padx=10)\n",
    "b55=Button(userframe,text=\"PRESS HERE TO CHECK YOUR DETAILS!\",command=seeuser)\n",
    "b55.grid(row=12,column=2)   \n",
    "    \n",
    "    \n",
    "def clearmain3():\n",
    "    mainpage.grid_forget()\n",
    "    userframe.grid()\n",
    "\n",
    "    \n",
    "def clearmain5():\n",
    "    mainpage.grid_forget()\n",
    "    planeframe.grid()\n",
    "    \n",
    "    \n",
    "\n",
    "\n",
    "\n",
    "def gomain1():\n",
    "    planeframe.grid_forget()\n",
    "    pilotframe.grid_forget()\n",
    "    searchframe.grid_forget()\n",
    "    userframe.grid_forget()\n",
    "    bookticket.grid_forget()\n",
    "    flig.grid_forget()\n",
    "    searchframe.grid_forget()\n",
    "    mainpage.grid()\n",
    "\n",
    "pilotframe=Frame(root,width=800,height=800)\n",
    "planeframe=Frame(root,width=800,height=800)\n",
    "\n",
    "def clearmain4():\n",
    "    mainpage.grid_forget()\n",
    "    pilotframe.grid()\n",
    "\n",
    "def seeplane():\n",
    "    p=str(planesee.get())\n",
    "    y=%sql select * from plane where planeid=:p;\n",
    "    y=str(y)\n",
    "    lb=Label(planeframe,text=y)\n",
    "    lb.grid(row=15,column=2)\n",
    "    goback1=Button(planeframe,text=\"GO TO MAIN PAGE!\",font=\"comicsansms 9\",command=gomain1)\n",
    "    goback1.grid(row=20,column=2,pady=15)\n",
    "\n",
    "def seepilot():\n",
    "    p=str(pilotsee.get())\n",
    "    y=%sql select * from pilot where pid=:p;\n",
    "    y=str(y)\n",
    "    lb=Label(pilotframe,text=y)\n",
    "    lb.grid(row=15,column=2)\n",
    "    goback1=Button(pilotframe,text=\"GO TO MAIN PAGE!\",font=\"comicsansms 9\",command=gomain1)\n",
    "    goback1.grid(row=20,column=2,pady=15) \n",
    "\n",
    "\n",
    "\n",
    "l666=Entry(pilotframe,textvariable=pilotsee)\n",
    "l777=Label(pilotframe,text=\"ENTER PILOT ID:\")\n",
    "l777.grid(row=11,column=2,pady=5,padx=10)\n",
    "l666.grid(row=11,column=3,pady=5,padx=10)\n",
    "b5555=Button(pilotframe,text=\"PRESS HERE TO CHECK YOUR DETAILS!\",command=seepilot)\n",
    "b5555.grid(row=12,column=2)   \n",
    "\n",
    "l66=Entry(planeframe,textvariable=planesee)\n",
    "l77=Label(planeframe,text=\"ENTER PLANE ID:\")\n",
    "l77.grid(row=11,column=2,pady=5,padx=10)\n",
    "l66.grid(row=11,column=3,pady=5,padx=10)\n",
    "b555=Button(planeframe,text=\"PRESS HERE TO CHECK YOUR DETAILS!\",command=seeplane)\n",
    "b555.grid(row=12,column=2)   \n",
    "\n",
    "\n",
    "root.geometry(\"1000x1000\")\n",
    "root.title(\"AIRLINE MANAGEMENT SYSTEM\")\n",
    "root.wm_iconbitmap(\"flightlogo.ico\")\n",
    "\n",
    "titleframe=Frame(root,width=800,height=35)\n",
    "img=Image.open(\"plane.jpg\")\n",
    "img=img.resize((200,150),Image.ANTIALIAS)\n",
    "pht=ImageTk.PhotoImage(img)\n",
    "Label(titleframe,image=pht,pady=10).grid(row=0,column=5,padx=30)\n",
    "title=Label(titleframe,text=\"AIR LINE MANAGEMENT SYSTEM\",font=\"comicsansms 20 bold underline\",fg=\"white\",bg=\"red\",padx=220,pady=20)\n",
    "title.grid(row=0,column=6)\n",
    "titleframe.grid(row=0,column=0)\n",
    "\n",
    "mainpage=Frame(root)\n",
    "b1=Button(mainpage,text=\"PRESS HERE TO BOOK FLIGHT TICKET!    \",command=clearmain1,font=\"comicsansms 10 bold\",padx=10,pady=25,borderwidth=5)\n",
    "b2=Button(mainpage,text=\"PRESS HERE TO VIEW AVAILABLE FLIGHTS!\",command=clearmain2,font=\"comicsansms 10 bold\",padx=3,pady=25,borderwidth=5)\n",
    "b3=Button(mainpage,text=\"PRESS HERE TO VIEW USERDATA!         \",command=clearmain3,font=\"comicsansms 10 bold\",padx=17,pady=25,borderwidth=5)\n",
    "b4=Button(mainpage,text=\"PRESS HERE TO VIEW PILOTDATA!        \",command=clearmain4,font=\"comicsansms 10 bold\",padx=17,pady=25,borderwidth=5)\n",
    "b5=Button(mainpage,text=\"PRESS HERE TO VIEW PLANEDATA!        \",command=clearmain5,font=\"comicsansms 10 bold\",padx=17,pady=25,borderwidth=5)\n",
    "\n",
    "\n",
    "    \n",
    "    \n",
    "\n",
    "\n",
    "\n",
    "\n",
    "\n",
    "\n",
    "\n",
    "\n",
    "b1.grid(column=10)\n",
    "b2.grid(column=10)\n",
    "b3.grid(column=10)\n",
    "b4.grid(column=10)\n",
    "b5.grid(column=10)\n",
    "\n",
    "mainpage.grid()\n",
    "\n",
    "uid=StringVar()\n",
    "fnn=StringVar()\n",
    "lnn=StringVar()\n",
    "agen=StringVar()\n",
    "gendern=StringVar()\n",
    "ffrom=StringVar()\n",
    "tto=StringVar()\n",
    "\n",
    "\n",
    "fid=StringVar()\n",
    "bookticket=Frame(root)\n",
    "\n",
    "e1=Entry(searchframe,textvariable=uid)\n",
    "l1=Label(searchframe,text=\"ENTER USERID:\")\n",
    "l1.grid(row=5,column=2,pady=5,padx=10)\n",
    "e1.grid(row=5,column=3,pady=5,padx=10)\n",
    "e2=Entry(searchframe,textvariable=fnn)\n",
    "l2=Label(searchframe,text=\"ENTER FIRSTNAME:\")\n",
    "l2.grid(row=6,column=2,pady=5,padx=10)\n",
    "e2.grid(row=6,column=3,pady=5,padx=10)\n",
    "e3=Entry(searchframe,textvariable=lnn)\n",
    "l3=Label(searchframe,text=\"ENTER LASTNAME:\")\n",
    "l3.grid(row=7,column=2,pady=5,padx=10)\n",
    "e3.grid(row=7,column=3,pady=5,padx=10)\n",
    "e4=Entry(searchframe,textvariable=agen)\n",
    "l4=Label(searchframe,text=\"ENTER AGE:\")\n",
    "l4.grid(row=8,column=2,pady=5,padx=10)\n",
    "e4.grid(row=8,column=3,pady=5,padx=10)\n",
    "e5=Entry(searchframe,textvariable=gendern)\n",
    "l5=Label(searchframe,text=\"ENTER GENDER:\")\n",
    "l5.grid(row=9,column=2,pady=5,padx=10)\n",
    "e5.grid(row=9,column=3,pady=5,padx=10)\n",
    "\n",
    "\n",
    "e6=Entry(bookticket,textvariable=ffrom)\n",
    "l6=Label(bookticket,text=\"ENTER FROM WHERE YOU WANT BOARD:\")\n",
    "l6.grid(row=10,column=2,pady=5,padx=10)\n",
    "e6.grid(row=10,column=3,pady=5,padx=10)\n",
    "e7=Entry(bookticket,textvariable=tto)\n",
    "l7=Label(bookticket,text=\"ENTER WHERE YOU WANT TO REACH:\")\n",
    "l7.grid(row=11,column=2,pady=5,padx=10)\n",
    "e7.grid(row=11,column=3,pady=5,padx=10)\n",
    "\n",
    "\n",
    "\n",
    "\n",
    "\n",
    "\n",
    "\n",
    "\n",
    "\n",
    "root.mainloop()\n"
   ]
  },
  {
   "cell_type": "code",
   "execution_count": null,
   "id": "104eef28",
   "metadata": {},
   "outputs": [],
   "source": [
    "%sql select * from searchbook2;"
   ]
  },
  {
   "cell_type": "code",
   "execution_count": 11,
   "id": "c0a5a5e3",
   "metadata": {},
   "outputs": [
    {
     "name": "stdout",
     "output_type": "stream",
     "text": [
      " * ibm_db_sa://ybx80860:***@824dfd4d-99de-440d-9991-629c01b3832d.bs2io90l08kqb1od8lcg.databases.appdomain.cloud:30119/bludb;security=SSL;\n"
     ]
    },
    {
     "name": "stderr",
     "output_type": "stream",
     "text": [
      "C:\\python3.10.1\\lib\\site-packages\\sql\\run.py:367: SAWarning: Dialect ibm_db_sa:ibm_db_sa will not make use of SQL compilation caching as it does not set the 'supports_statement_cache' attribute to ``True``.  This can have significant performance implications including some performance degradations in comparison to prior SQLAlchemy versions.  Dialect maintainers should seek to set this attribute to True after appropriate development and testing for SQLAlchemy 1.4 caching support.   Alternatively, this attribute may be set to False which will disable this warning. (Background on this error at: https://sqlalche.me/e/14/cprf)\n",
      "  result = conn.session.execute(txt, user_namespace)\n"
     ]
    },
    {
     "name": "stdout",
     "output_type": "stream",
     "text": [
      "Done.\n"
     ]
    },
    {
     "data": {
      "text/html": [
       "<table>\n",
       "    <tr>\n",
       "        <th>pid</th>\n",
       "        <th>name</th>\n",
       "        <th>age</th>\n",
       "    </tr>\n",
       "    <tr>\n",
       "        <td>Pi074</td>\n",
       "        <td>John Crew</td>\n",
       "        <td>39</td>\n",
       "    </tr>\n",
       "    <tr>\n",
       "        <td>Pi098</td>\n",
       "        <td>Tom Smith</td>\n",
       "        <td>36</td>\n",
       "    </tr>\n",
       "    <tr>\n",
       "        <td>Pi123</td>\n",
       "        <td>Harry Mack</td>\n",
       "        <td>43</td>\n",
       "    </tr>\n",
       "    <tr>\n",
       "        <td>Pi541</td>\n",
       "        <td>Ash Ketchum</td>\n",
       "        <td>35</td>\n",
       "    </tr>\n",
       "    <tr>\n",
       "        <td>Pi641</td>\n",
       "        <td>Larry Shaw</td>\n",
       "        <td>49</td>\n",
       "    </tr>\n",
       "</table>"
      ],
      "text/plain": [
       "[('Pi074', 'John Crew', 39),\n",
       " ('Pi098', 'Tom Smith', 36),\n",
       " ('Pi123', 'Harry Mack', 43),\n",
       " ('Pi541', 'Ash Ketchum', 35),\n",
       " ('Pi641', 'Larry Shaw', 49)]"
      ]
     },
     "execution_count": 11,
     "metadata": {},
     "output_type": "execute_result"
    }
   ],
   "source": [
    "%sql select * from pilot;"
   ]
  },
  {
   "cell_type": "code",
   "execution_count": null,
   "id": "1b5791ae",
   "metadata": {},
   "outputs": [],
   "source": [
    "%sql describe  table flights1;"
   ]
  },
  {
   "cell_type": "code",
   "execution_count": 10,
   "id": "4e13a008",
   "metadata": {},
   "outputs": [
    {
     "name": "stdout",
     "output_type": "stream",
     "text": [
      " * ibm_db_sa://ybx80860:***@824dfd4d-99de-440d-9991-629c01b3832d.bs2io90l08kqb1od8lcg.databases.appdomain.cloud:30119/bludb;security=SSL;\n",
      "Done.\n"
     ]
    },
    {
     "data": {
      "text/html": [
       "<table>\n",
       "    <tr>\n",
       "        <th>flightid</th>\n",
       "        <th>pilotid</th>\n",
       "        <th>planeid</th>\n",
       "        <th>airline</th>\n",
       "        <th>ffrom</th>\n",
       "        <th>fto</th>\n",
       "        <th>fdate</th>\n",
       "        <th>ftime</th>\n",
       "        <th>nooftick</th>\n",
       "    </tr>\n",
       "    <tr>\n",
       "        <td>F0192</td>\n",
       "        <td>Pi074</td>\n",
       "        <td>Pl199</td>\n",
       "        <td>Air India</td>\n",
       "        <td>Mumbai</td>\n",
       "        <td>Delhi</td>\n",
       "        <td>2022-04-04</td>\n",
       "        <td>13:30:00</td>\n",
       "        <td>7</td>\n",
       "    </tr>\n",
       "    <tr>\n",
       "        <td>F1012</td>\n",
       "        <td>Pi098</td>\n",
       "        <td>Pl129</td>\n",
       "        <td>Air India</td>\n",
       "        <td>Ahmedabad</td>\n",
       "        <td>Guwahati</td>\n",
       "        <td>2022-01-04</td>\n",
       "        <td>16:00:00</td>\n",
       "        <td>-1</td>\n",
       "    </tr>\n",
       "    <tr>\n",
       "        <td>F9108</td>\n",
       "        <td>Pi123</td>\n",
       "        <td>Pl007</td>\n",
       "        <td>Indigo</td>\n",
       "        <td>Mumbai</td>\n",
       "        <td>Pune</td>\n",
       "        <td>2022-10-04</td>\n",
       "        <td>10:35:00</td>\n",
       "        <td>10</td>\n",
       "    </tr>\n",
       "    <tr>\n",
       "        <td>F3216</td>\n",
       "        <td>Pi541</td>\n",
       "        <td>Pl307</td>\n",
       "        <td>Spice Jet</td>\n",
       "        <td>Surat</td>\n",
       "        <td>Chennai</td>\n",
       "        <td>2022-05-04</td>\n",
       "        <td>14:00:00</td>\n",
       "        <td>9</td>\n",
       "    </tr>\n",
       "    <tr>\n",
       "        <td>F0776</td>\n",
       "        <td>Pi621</td>\n",
       "        <td>Pl707</td>\n",
       "        <td>Air India</td>\n",
       "        <td>Patna</td>\n",
       "        <td>Bhopal</td>\n",
       "        <td>2022-11-04</td>\n",
       "        <td>12:30:00</td>\n",
       "        <td>10</td>\n",
       "    </tr>\n",
       "    <tr>\n",
       "        <td>F0111</td>\n",
       "        <td>Pi074</td>\n",
       "        <td>Pl199</td>\n",
       "        <td>Air India</td>\n",
       "        <td>Guwahati</td>\n",
       "        <td>Chennai</td>\n",
       "        <td>2022-05-04</td>\n",
       "        <td>14:00:00</td>\n",
       "        <td>10</td>\n",
       "    </tr>\n",
       "</table>"
      ],
      "text/plain": [
       "[('F0192', 'Pi074', 'Pl199', 'Air India', 'Mumbai', 'Delhi', datetime.date(2022, 4, 4), datetime.time(13, 30), 7),\n",
       " ('F1012', 'Pi098', 'Pl129', 'Air India', 'Ahmedabad', 'Guwahati', datetime.date(2022, 1, 4), datetime.time(16, 0), -1),\n",
       " ('F9108', 'Pi123', 'Pl007', 'Indigo', 'Mumbai', 'Pune', datetime.date(2022, 10, 4), datetime.time(10, 35), 10),\n",
       " ('F3216', 'Pi541', 'Pl307', 'Spice Jet', 'Surat', 'Chennai', datetime.date(2022, 5, 4), datetime.time(14, 0), 9),\n",
       " ('F0776', 'Pi621', 'Pl707', 'Air India', 'Patna', 'Bhopal', datetime.date(2022, 11, 4), datetime.time(12, 30), 10),\n",
       " ('F0111', 'Pi074', 'Pl199', 'Air India', 'Guwahati', 'Chennai', datetime.date(2022, 5, 4), datetime.time(14, 0), 10)]"
      ]
     },
     "execution_count": 10,
     "metadata": {},
     "output_type": "execute_result"
    }
   ],
   "source": [
    " %sql select * from flight1;"
   ]
  },
  {
   "cell_type": "code",
   "execution_count": null,
   "id": "817594c1",
   "metadata": {},
   "outputs": [],
   "source": [
    "%sql create table flight1 (flightid varchar(5) not null, pilotid varchar(10),planeid varchar(10),airline varchar(25),ffrom varchar(25),fto varchar(25),fdate date,ftime time,nooftick int,primary key(flightid) );"
   ]
  },
  {
   "cell_type": "code",
   "execution_count": 11,
   "id": "12c76c37",
   "metadata": {},
   "outputs": [
    {
     "name": "stdout",
     "output_type": "stream",
     "text": [
      " * ibm_db_sa://ybx80860:***@824dfd4d-99de-440d-9991-629c01b3832d.bs2io90l08kqb1od8lcg.databases.appdomain.cloud:30119/bludb;security=SSL;\n",
      "Done.\n"
     ]
    },
    {
     "data": {
      "text/html": [
       "<table>\n",
       "    <tr>\n",
       "        <th>flightid</th>\n",
       "        <th>pilotid</th>\n",
       "        <th>planeid</th>\n",
       "        <th>airline</th>\n",
       "        <th>ffrom</th>\n",
       "        <th>fto</th>\n",
       "        <th>fdate</th>\n",
       "        <th>ftime</th>\n",
       "        <th>nooftick</th>\n",
       "    </tr>\n",
       "    <tr>\n",
       "        <td>F0192</td>\n",
       "        <td>Pi074</td>\n",
       "        <td>Pl199</td>\n",
       "        <td>Air India</td>\n",
       "        <td>Mumbai</td>\n",
       "        <td>Delhi</td>\n",
       "        <td>2022-04-04</td>\n",
       "        <td>13:30:00</td>\n",
       "        <td>7</td>\n",
       "    </tr>\n",
       "    <tr>\n",
       "        <td>F1012</td>\n",
       "        <td>Pi098</td>\n",
       "        <td>Pl129</td>\n",
       "        <td>Air India</td>\n",
       "        <td>Ahmedabad</td>\n",
       "        <td>Guwahati</td>\n",
       "        <td>2022-01-04</td>\n",
       "        <td>16:00:00</td>\n",
       "        <td>-1</td>\n",
       "    </tr>\n",
       "    <tr>\n",
       "        <td>F9108</td>\n",
       "        <td>Pi123</td>\n",
       "        <td>Pl007</td>\n",
       "        <td>Indigo</td>\n",
       "        <td>Mumbai</td>\n",
       "        <td>Pune</td>\n",
       "        <td>2022-10-04</td>\n",
       "        <td>10:35:00</td>\n",
       "        <td>10</td>\n",
       "    </tr>\n",
       "    <tr>\n",
       "        <td>F3216</td>\n",
       "        <td>Pi541</td>\n",
       "        <td>Pl307</td>\n",
       "        <td>Spice Jet</td>\n",
       "        <td>Surat</td>\n",
       "        <td>Chennai</td>\n",
       "        <td>2022-05-04</td>\n",
       "        <td>14:00:00</td>\n",
       "        <td>9</td>\n",
       "    </tr>\n",
       "    <tr>\n",
       "        <td>F0776</td>\n",
       "        <td>Pi621</td>\n",
       "        <td>Pl707</td>\n",
       "        <td>Air India</td>\n",
       "        <td>Patna</td>\n",
       "        <td>Bhopal</td>\n",
       "        <td>2022-11-04</td>\n",
       "        <td>12:30:00</td>\n",
       "        <td>10</td>\n",
       "    </tr>\n",
       "    <tr>\n",
       "        <td>F0111</td>\n",
       "        <td>Pi074</td>\n",
       "        <td>Pl199</td>\n",
       "        <td>Air India</td>\n",
       "        <td>Guwahati</td>\n",
       "        <td>Chennai</td>\n",
       "        <td>2022-05-04</td>\n",
       "        <td>14:00:00</td>\n",
       "        <td>10</td>\n",
       "    </tr>\n",
       "</table>"
      ],
      "text/plain": [
       "[('F0192', 'Pi074', 'Pl199', 'Air India', 'Mumbai', 'Delhi', datetime.date(2022, 4, 4), datetime.time(13, 30), 7),\n",
       " ('F1012', 'Pi098', 'Pl129', 'Air India', 'Ahmedabad', 'Guwahati', datetime.date(2022, 1, 4), datetime.time(16, 0), -1),\n",
       " ('F9108', 'Pi123', 'Pl007', 'Indigo', 'Mumbai', 'Pune', datetime.date(2022, 10, 4), datetime.time(10, 35), 10),\n",
       " ('F3216', 'Pi541', 'Pl307', 'Spice Jet', 'Surat', 'Chennai', datetime.date(2022, 5, 4), datetime.time(14, 0), 9),\n",
       " ('F0776', 'Pi621', 'Pl707', 'Air India', 'Patna', 'Bhopal', datetime.date(2022, 11, 4), datetime.time(12, 30), 10),\n",
       " ('F0111', 'Pi074', 'Pl199', 'Air India', 'Guwahati', 'Chennai', datetime.date(2022, 5, 4), datetime.time(14, 0), 10)]"
      ]
     },
     "execution_count": 11,
     "metadata": {},
     "output_type": "execute_result"
    }
   ],
   "source": [
    "%sql select * from flight1;"
   ]
  },
  {
   "cell_type": "code",
   "execution_count": null,
   "id": "e862a513",
   "metadata": {},
   "outputs": [],
   "source": [
    "%sql insert into pilot values('Pi641','Larry Shaw',49);"
   ]
  },
  {
   "cell_type": "code",
   "execution_count": null,
   "id": "eeb65f52",
   "metadata": {},
   "outputs": [],
   "source": [
    "%sql select * from plane;"
   ]
  },
  {
   "cell_type": "code",
   "execution_count": 8,
   "id": "61f8d696",
   "metadata": {},
   "outputs": [
    {
     "name": "stdout",
     "output_type": "stream",
     "text": [
      " * ibm_db_sa://ybx80860:***@824dfd4d-99de-440d-9991-629c01b3832d.bs2io90l08kqb1od8lcg.databases.appdomain.cloud:30119/bludb;security=SSL;\n",
      "1 rows affected.\n"
     ]
    },
    {
     "data": {
      "text/plain": [
       "[]"
      ]
     },
     "execution_count": 8,
     "metadata": {},
     "output_type": "execute_result"
    }
   ],
   "source": [
    "%sql update flight1 set nooftick=1 where flightid='F1012';"
   ]
  },
  {
   "cell_type": "code",
   "execution_count": 11,
   "id": "9dabc383",
   "metadata": {},
   "outputs": [
    {
     "name": "stdout",
     "output_type": "stream",
     "text": [
      " * ibm_db_sa://ybx80860:***@824dfd4d-99de-440d-9991-629c01b3832d.bs2io90l08kqb1od8lcg.databases.appdomain.cloud:30119/bludb;security=SSL;\n",
      "1 rows affected.\n"
     ]
    },
    {
     "data": {
      "text/plain": [
       "[]"
      ]
     },
     "execution_count": 11,
     "metadata": {},
     "output_type": "execute_result"
    }
   ],
   "source": [
    "%sql insert into flight1 values('F0111','Pi074','Pl199','Air India','Guwahati','Ahmedabad','2022-05-04','14:00:00',10);"
   ]
  },
  {
   "cell_type": "code",
   "execution_count": 15,
   "id": "31e32135",
   "metadata": {},
   "outputs": [
    {
     "name": "stdout",
     "output_type": "stream",
     "text": [
      " * ibm_db_sa://ybx80860:***@824dfd4d-99de-440d-9991-629c01b3832d.bs2io90l08kqb1od8lcg.databases.appdomain.cloud:30119/bludb;security=SSL;\n",
      "1 rows affected.\n"
     ]
    },
    {
     "data": {
      "text/plain": [
       "[]"
      ]
     },
     "execution_count": 15,
     "metadata": {},
     "output_type": "execute_result"
    }
   ],
   "source": [
    "%sql update flight1 set fto='Chennai' where ffrom='Guwahati';"
   ]
  },
  {
   "cell_type": "code",
   "execution_count": 7,
   "id": "d99c21ad",
   "metadata": {},
   "outputs": [
    {
     "name": "stdout",
     "output_type": "stream",
     "text": [
      " * ibm_db_sa://ybx80860:***@824dfd4d-99de-440d-9991-629c01b3832d.bs2io90l08kqb1od8lcg.databases.appdomain.cloud:30119/bludb;security=SSL;\n",
      "Done.\n"
     ]
    },
    {
     "data": {
      "text/plain": [
       "[]"
      ]
     },
     "execution_count": 7,
     "metadata": {},
     "output_type": "execute_result"
    }
   ],
   "source": [
    "%sql set current isolation level=RR ;"
   ]
  },
  {
   "cell_type": "code",
   "execution_count": 14,
   "id": "2feb40d4",
   "metadata": {},
   "outputs": [
    {
     "name": "stdout",
     "output_type": "stream",
     "text": [
      " * ibm_db_sa://ybx80860:***@824dfd4d-99de-440d-9991-629c01b3832d.bs2io90l08kqb1od8lcg.databases.appdomain.cloud:30119/bludb;security=SSL;\n"
     ]
    },
    {
     "ename": "Exception",
     "evalue": "ipython_sql does not support transactions",
     "output_type": "error",
     "traceback": [
      "\u001b[1;31m---------------------------------------------------------------------------\u001b[0m",
      "\u001b[1;31mException\u001b[0m                                 Traceback (most recent call last)",
      "Input \u001b[1;32mIn [14]\u001b[0m, in \u001b[0;36m<module>\u001b[1;34m\u001b[0m\n\u001b[1;32m----> 1\u001b[0m \u001b[43mget_ipython\u001b[49m\u001b[43m(\u001b[49m\u001b[43m)\u001b[49m\u001b[38;5;241;43m.\u001b[39;49m\u001b[43mrun_cell_magic\u001b[49m\u001b[43m(\u001b[49m\u001b[38;5;124;43m'\u001b[39;49m\u001b[38;5;124;43msql\u001b[39;49m\u001b[38;5;124;43m'\u001b[39;49m\u001b[43m,\u001b[49m\u001b[43m \u001b[49m\u001b[38;5;124;43m'\u001b[39;49m\u001b[38;5;124;43m'\u001b[39;49m\u001b[43m,\u001b[49m\u001b[43m \u001b[49m\u001b[38;5;124;43m'\u001b[39;49m\u001b[38;5;124;43mBEGIN WORK;\u001b[39;49m\u001b[38;5;130;43;01m\\n\u001b[39;49;00m\u001b[38;5;124;43m   LOCK TABLE flight1;\u001b[39;49m\u001b[38;5;130;43;01m\\n\u001b[39;49;00m\u001b[38;5;124;43m   LOCK TABLE searchbook2;\u001b[39;49m\u001b[38;5;130;43;01m\\n\u001b[39;49;00m\u001b[38;5;124;43m   UPDATE flight1 SET nooftick = nooftick-1;\u001b[39;49m\u001b[38;5;130;43;01m\\n\u001b[39;49;00m\u001b[38;5;124;43mCOMMIT WORK;\u001b[39;49m\u001b[38;5;130;43;01m\\n\u001b[39;49;00m\u001b[38;5;124;43m'\u001b[39;49m\u001b[43m)\u001b[49m\n",
      "File \u001b[1;32mC:\\python3.10.1\\lib\\site-packages\\IPython\\core\\interactiveshell.py:2257\u001b[0m, in \u001b[0;36mInteractiveShell.run_cell_magic\u001b[1;34m(self, magic_name, line, cell)\u001b[0m\n\u001b[0;32m   2255\u001b[0m \u001b[38;5;28;01mwith\u001b[39;00m \u001b[38;5;28mself\u001b[39m\u001b[38;5;241m.\u001b[39mbuiltin_trap:\n\u001b[0;32m   2256\u001b[0m     args \u001b[38;5;241m=\u001b[39m (magic_arg_s, cell)\n\u001b[1;32m-> 2257\u001b[0m     result \u001b[38;5;241m=\u001b[39m fn(\u001b[38;5;241m*\u001b[39margs, \u001b[38;5;241m*\u001b[39m\u001b[38;5;241m*\u001b[39mkwargs)\n\u001b[0;32m   2258\u001b[0m \u001b[38;5;28;01mreturn\u001b[39;00m result\n",
      "File \u001b[1;32mC:\\python3.10.1\\lib\\site-packages\\sql\\magic.py:217\u001b[0m, in \u001b[0;36mSqlMagic.execute\u001b[1;34m(self, line, cell, local_ns)\u001b[0m\n\u001b[0;32m    214\u001b[0m     \u001b[38;5;28;01mreturn\u001b[39;00m\n\u001b[0;32m    216\u001b[0m \u001b[38;5;28;01mtry\u001b[39;00m:\n\u001b[1;32m--> 217\u001b[0m     result \u001b[38;5;241m=\u001b[39m \u001b[43msql\u001b[49m\u001b[38;5;241;43m.\u001b[39;49m\u001b[43mrun\u001b[49m\u001b[38;5;241;43m.\u001b[39;49m\u001b[43mrun\u001b[49m\u001b[43m(\u001b[49m\u001b[43mconn\u001b[49m\u001b[43m,\u001b[49m\u001b[43m \u001b[49m\u001b[43mparsed\u001b[49m\u001b[43m[\u001b[49m\u001b[38;5;124;43m\"\u001b[39;49m\u001b[38;5;124;43msql\u001b[39;49m\u001b[38;5;124;43m\"\u001b[39;49m\u001b[43m]\u001b[49m\u001b[43m,\u001b[49m\u001b[43m \u001b[49m\u001b[38;5;28;43mself\u001b[39;49m\u001b[43m,\u001b[49m\u001b[43m \u001b[49m\u001b[43muser_ns\u001b[49m\u001b[43m)\u001b[49m\n\u001b[0;32m    219\u001b[0m     \u001b[38;5;28;01mif\u001b[39;00m (\n\u001b[0;32m    220\u001b[0m         result \u001b[38;5;129;01mis\u001b[39;00m \u001b[38;5;129;01mnot\u001b[39;00m \u001b[38;5;28;01mNone\u001b[39;00m\n\u001b[0;32m    221\u001b[0m         \u001b[38;5;129;01mand\u001b[39;00m \u001b[38;5;129;01mnot\u001b[39;00m \u001b[38;5;28misinstance\u001b[39m(result, \u001b[38;5;28mstr\u001b[39m)\n\u001b[1;32m   (...)\u001b[0m\n\u001b[0;32m    224\u001b[0m         \u001b[38;5;66;03m# Instead of returning values, set variables directly in the\u001b[39;00m\n\u001b[0;32m    225\u001b[0m         \u001b[38;5;66;03m# users namespace. Variable names given by column names\u001b[39;00m\n\u001b[0;32m    227\u001b[0m         \u001b[38;5;28;01mif\u001b[39;00m \u001b[38;5;28mself\u001b[39m\u001b[38;5;241m.\u001b[39mautopandas:\n",
      "File \u001b[1;32mC:\\python3.10.1\\lib\\site-packages\\sql\\run.py:356\u001b[0m, in \u001b[0;36mrun\u001b[1;34m(conn, sql, config, user_namespace)\u001b[0m\n\u001b[0;32m    354\u001b[0m first_word \u001b[38;5;241m=\u001b[39m sql\u001b[38;5;241m.\u001b[39mstrip()\u001b[38;5;241m.\u001b[39msplit()[\u001b[38;5;241m0\u001b[39m]\u001b[38;5;241m.\u001b[39mlower()\n\u001b[0;32m    355\u001b[0m \u001b[38;5;28;01mif\u001b[39;00m first_word \u001b[38;5;241m==\u001b[39m \u001b[38;5;124m\"\u001b[39m\u001b[38;5;124mbegin\u001b[39m\u001b[38;5;124m\"\u001b[39m:\n\u001b[1;32m--> 356\u001b[0m     \u001b[38;5;28;01mraise\u001b[39;00m \u001b[38;5;167;01mException\u001b[39;00m(\u001b[38;5;124m\"\u001b[39m\u001b[38;5;124mipython_sql does not support transactions\u001b[39m\u001b[38;5;124m\"\u001b[39m)\n\u001b[0;32m    357\u001b[0m \u001b[38;5;28;01mif\u001b[39;00m first_word\u001b[38;5;241m.\u001b[39mstartswith(\u001b[38;5;124m\"\u001b[39m\u001b[38;5;130;01m\\\\\u001b[39;00m\u001b[38;5;124m\"\u001b[39m) \u001b[38;5;129;01mand\u001b[39;00m \u001b[38;5;124m\"\u001b[39m\u001b[38;5;124mpostgres\u001b[39m\u001b[38;5;124m\"\u001b[39m \u001b[38;5;129;01min\u001b[39;00m \u001b[38;5;28mstr\u001b[39m(conn\u001b[38;5;241m.\u001b[39mdialect):\n\u001b[0;32m    358\u001b[0m     \u001b[38;5;28;01mif\u001b[39;00m \u001b[38;5;129;01mnot\u001b[39;00m PGSpecial:\n",
      "\u001b[1;31mException\u001b[0m: ipython_sql does not support transactions"
     ]
    }
   ],
   "source": [
    "%%sql\n",
    "BEGIN WORK;\n",
    "   LOCK TABLE flight1;\n",
    "   LOCK TABLE searchbook2;\n",
    "   UPDATE flight1 SET nooftick = nooftick-1;\n",
    "COMMIT WORK;"
   ]
  },
  {
   "cell_type": "code",
   "execution_count": null,
   "id": "9aa0dd1e",
   "metadata": {},
   "outputs": [],
   "source": []
  }
 ],
 "metadata": {
  "kernelspec": {
   "display_name": "Python 3 (ipykernel)",
   "language": "python",
   "name": "python3"
  },
  "language_info": {
   "codemirror_mode": {
    "name": "ipython",
    "version": 3
   },
   "file_extension": ".py",
   "mimetype": "text/x-python",
   "name": "python",
   "nbconvert_exporter": "python",
   "pygments_lexer": "ipython3",
   "version": "3.10.1"
  }
 },
 "nbformat": 4,
 "nbformat_minor": 5
}
